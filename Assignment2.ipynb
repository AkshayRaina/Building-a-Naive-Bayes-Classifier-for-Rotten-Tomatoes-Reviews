{
  "nbformat": 4,
  "nbformat_minor": 0,
  "metadata": {
    "colab": {
      "provenance": [],
      "toc_visible": true
    },
    "kernelspec": {
      "name": "python3",
      "display_name": "Python 3"
    },
    "language_info": {
      "name": "python"
    },
    "accelerator": "GPU",
    "gpuClass": "standard"
  },
  "cells": [
    {
      "cell_type": "code",
      "execution_count": 1,
      "metadata": {
        "id": "b_M80O6Jm-sA"
      },
      "outputs": [],
      "source": [
        "import random\n",
        "import math\n",
        "from collections import Counter\n",
        "import pandas as pd\n",
        "import numpy as np\n",
        "import matplotlib.pyplot as plt\n",
        "import seaborn as sns"
      ]
    },
    {
      "cell_type": "code",
      "source": [
        "from google.colab import files\n",
        "\n",
        "uploaded = files.upload()\n",
        "\n",
        "for fn in uploaded.keys():\n",
        "  print('User uploaded file \"{name}\" with length {length} bytes'.format(\n",
        "      name=fn, length=len(uploaded[fn])))"
      ],
      "metadata": {
        "colab": {
          "base_uri": "https://localhost:8080/",
          "height": 89
        },
        "id": "OwDgDPO5pMgy",
        "outputId": "761d8b38-9af9-4bf4-fc89-6dfa2090f480"
      },
      "execution_count": 2,
      "outputs": [
        {
          "output_type": "display_data",
          "data": {
            "text/plain": [
              "<IPython.core.display.HTML object>"
            ],
            "text/html": [
              "\n",
              "     <input type=\"file\" id=\"files-a4ea360a-34f4-4edf-b8bb-10b406d4aa61\" name=\"files[]\" multiple disabled\n",
              "        style=\"border:none\" />\n",
              "     <output id=\"result-a4ea360a-34f4-4edf-b8bb-10b406d4aa61\">\n",
              "      Upload widget is only available when the cell has been executed in the\n",
              "      current browser session. Please rerun this cell to enable.\n",
              "      </output>\n",
              "      <script>// Copyright 2017 Google LLC\n",
              "//\n",
              "// Licensed under the Apache License, Version 2.0 (the \"License\");\n",
              "// you may not use this file except in compliance with the License.\n",
              "// You may obtain a copy of the License at\n",
              "//\n",
              "//      http://www.apache.org/licenses/LICENSE-2.0\n",
              "//\n",
              "// Unless required by applicable law or agreed to in writing, software\n",
              "// distributed under the License is distributed on an \"AS IS\" BASIS,\n",
              "// WITHOUT WARRANTIES OR CONDITIONS OF ANY KIND, either express or implied.\n",
              "// See the License for the specific language governing permissions and\n",
              "// limitations under the License.\n",
              "\n",
              "/**\n",
              " * @fileoverview Helpers for google.colab Python module.\n",
              " */\n",
              "(function(scope) {\n",
              "function span(text, styleAttributes = {}) {\n",
              "  const element = document.createElement('span');\n",
              "  element.textContent = text;\n",
              "  for (const key of Object.keys(styleAttributes)) {\n",
              "    element.style[key] = styleAttributes[key];\n",
              "  }\n",
              "  return element;\n",
              "}\n",
              "\n",
              "// Max number of bytes which will be uploaded at a time.\n",
              "const MAX_PAYLOAD_SIZE = 100 * 1024;\n",
              "\n",
              "function _uploadFiles(inputId, outputId) {\n",
              "  const steps = uploadFilesStep(inputId, outputId);\n",
              "  const outputElement = document.getElementById(outputId);\n",
              "  // Cache steps on the outputElement to make it available for the next call\n",
              "  // to uploadFilesContinue from Python.\n",
              "  outputElement.steps = steps;\n",
              "\n",
              "  return _uploadFilesContinue(outputId);\n",
              "}\n",
              "\n",
              "// This is roughly an async generator (not supported in the browser yet),\n",
              "// where there are multiple asynchronous steps and the Python side is going\n",
              "// to poll for completion of each step.\n",
              "// This uses a Promise to block the python side on completion of each step,\n",
              "// then passes the result of the previous step as the input to the next step.\n",
              "function _uploadFilesContinue(outputId) {\n",
              "  const outputElement = document.getElementById(outputId);\n",
              "  const steps = outputElement.steps;\n",
              "\n",
              "  const next = steps.next(outputElement.lastPromiseValue);\n",
              "  return Promise.resolve(next.value.promise).then((value) => {\n",
              "    // Cache the last promise value to make it available to the next\n",
              "    // step of the generator.\n",
              "    outputElement.lastPromiseValue = value;\n",
              "    return next.value.response;\n",
              "  });\n",
              "}\n",
              "\n",
              "/**\n",
              " * Generator function which is called between each async step of the upload\n",
              " * process.\n",
              " * @param {string} inputId Element ID of the input file picker element.\n",
              " * @param {string} outputId Element ID of the output display.\n",
              " * @return {!Iterable<!Object>} Iterable of next steps.\n",
              " */\n",
              "function* uploadFilesStep(inputId, outputId) {\n",
              "  const inputElement = document.getElementById(inputId);\n",
              "  inputElement.disabled = false;\n",
              "\n",
              "  const outputElement = document.getElementById(outputId);\n",
              "  outputElement.innerHTML = '';\n",
              "\n",
              "  const pickedPromise = new Promise((resolve) => {\n",
              "    inputElement.addEventListener('change', (e) => {\n",
              "      resolve(e.target.files);\n",
              "    });\n",
              "  });\n",
              "\n",
              "  const cancel = document.createElement('button');\n",
              "  inputElement.parentElement.appendChild(cancel);\n",
              "  cancel.textContent = 'Cancel upload';\n",
              "  const cancelPromise = new Promise((resolve) => {\n",
              "    cancel.onclick = () => {\n",
              "      resolve(null);\n",
              "    };\n",
              "  });\n",
              "\n",
              "  // Wait for the user to pick the files.\n",
              "  const files = yield {\n",
              "    promise: Promise.race([pickedPromise, cancelPromise]),\n",
              "    response: {\n",
              "      action: 'starting',\n",
              "    }\n",
              "  };\n",
              "\n",
              "  cancel.remove();\n",
              "\n",
              "  // Disable the input element since further picks are not allowed.\n",
              "  inputElement.disabled = true;\n",
              "\n",
              "  if (!files) {\n",
              "    return {\n",
              "      response: {\n",
              "        action: 'complete',\n",
              "      }\n",
              "    };\n",
              "  }\n",
              "\n",
              "  for (const file of files) {\n",
              "    const li = document.createElement('li');\n",
              "    li.append(span(file.name, {fontWeight: 'bold'}));\n",
              "    li.append(span(\n",
              "        `(${file.type || 'n/a'}) - ${file.size} bytes, ` +\n",
              "        `last modified: ${\n",
              "            file.lastModifiedDate ? file.lastModifiedDate.toLocaleDateString() :\n",
              "                                    'n/a'} - `));\n",
              "    const percent = span('0% done');\n",
              "    li.appendChild(percent);\n",
              "\n",
              "    outputElement.appendChild(li);\n",
              "\n",
              "    const fileDataPromise = new Promise((resolve) => {\n",
              "      const reader = new FileReader();\n",
              "      reader.onload = (e) => {\n",
              "        resolve(e.target.result);\n",
              "      };\n",
              "      reader.readAsArrayBuffer(file);\n",
              "    });\n",
              "    // Wait for the data to be ready.\n",
              "    let fileData = yield {\n",
              "      promise: fileDataPromise,\n",
              "      response: {\n",
              "        action: 'continue',\n",
              "      }\n",
              "    };\n",
              "\n",
              "    // Use a chunked sending to avoid message size limits. See b/62115660.\n",
              "    let position = 0;\n",
              "    do {\n",
              "      const length = Math.min(fileData.byteLength - position, MAX_PAYLOAD_SIZE);\n",
              "      const chunk = new Uint8Array(fileData, position, length);\n",
              "      position += length;\n",
              "\n",
              "      const base64 = btoa(String.fromCharCode.apply(null, chunk));\n",
              "      yield {\n",
              "        response: {\n",
              "          action: 'append',\n",
              "          file: file.name,\n",
              "          data: base64,\n",
              "        },\n",
              "      };\n",
              "\n",
              "      let percentDone = fileData.byteLength === 0 ?\n",
              "          100 :\n",
              "          Math.round((position / fileData.byteLength) * 100);\n",
              "      percent.textContent = `${percentDone}% done`;\n",
              "\n",
              "    } while (position < fileData.byteLength);\n",
              "  }\n",
              "\n",
              "  // All done.\n",
              "  yield {\n",
              "    response: {\n",
              "      action: 'complete',\n",
              "    }\n",
              "  };\n",
              "}\n",
              "\n",
              "scope.google = scope.google || {};\n",
              "scope.google.colab = scope.google.colab || {};\n",
              "scope.google.colab._files = {\n",
              "  _uploadFiles,\n",
              "  _uploadFilesContinue,\n",
              "};\n",
              "})(self);\n",
              "</script> "
            ]
          },
          "metadata": {}
        },
        {
          "output_type": "stream",
          "name": "stdout",
          "text": [
            "Saving archive.zip to archive.zip\n",
            "User uploaded file \"archive.zip\" with length 27794660 bytes\n"
          ]
        }
      ]
    },
    {
      "cell_type": "code",
      "source": [
        "from zipfile import ZipFile\n",
        "folder = \"archive.zip\"\n",
        "with ZipFile(folder, 'r') as zip:\n",
        "  zip.extractall()\n",
        "  print(\"Folder data available!\")"
      ],
      "metadata": {
        "colab": {
          "base_uri": "https://localhost:8080/"
        },
        "id": "tCulUNkpHFWE",
        "outputId": "8025f8c7-b083-4235-83cd-5856e81d0b4f"
      },
      "execution_count": 3,
      "outputs": [
        {
          "output_type": "stream",
          "name": "stdout",
          "text": [
            "Folder data available!\n"
          ]
        }
      ]
    },
    {
      "cell_type": "code",
      "source": [
        "rottenTomatoesData = pd.read_csv(\"rt_reviews.csv\", names=['Freshness', 'Review'], encoding='Latin-1')"
      ],
      "metadata": {
        "id": "2pJvt9_xqEWx"
      },
      "execution_count": 4,
      "outputs": []
    },
    {
      "cell_type": "code",
      "source": [
        "rottenTomatoesData.head()"
      ],
      "metadata": {
        "colab": {
          "base_uri": "https://localhost:8080/",
          "height": 206
        },
        "id": "LsB1W8QYqjjd",
        "outputId": "ac9c59b7-259a-4d94-eb4d-cb8c638fc3f5"
      },
      "execution_count": 5,
      "outputs": [
        {
          "output_type": "execute_result",
          "data": {
            "text/plain": [
              "   Freshness                                             Review\n",
              "0  Freshness                                             Review\n",
              "1      fresh   Manakamana doesn't answer any questions, yet ...\n",
              "2      fresh   Wilfully offensive and powered by a chest-thu...\n",
              "3     rotten   It would be difficult to imagine material mor...\n",
              "4     rotten   Despite the gusto its star brings to the role..."
            ],
            "text/html": [
              "\n",
              "  <div id=\"df-ae3e206b-684f-490b-a7aa-4b170626dd58\">\n",
              "    <div class=\"colab-df-container\">\n",
              "      <div>\n",
              "<style scoped>\n",
              "    .dataframe tbody tr th:only-of-type {\n",
              "        vertical-align: middle;\n",
              "    }\n",
              "\n",
              "    .dataframe tbody tr th {\n",
              "        vertical-align: top;\n",
              "    }\n",
              "\n",
              "    .dataframe thead th {\n",
              "        text-align: right;\n",
              "    }\n",
              "</style>\n",
              "<table border=\"1\" class=\"dataframe\">\n",
              "  <thead>\n",
              "    <tr style=\"text-align: right;\">\n",
              "      <th></th>\n",
              "      <th>Freshness</th>\n",
              "      <th>Review</th>\n",
              "    </tr>\n",
              "  </thead>\n",
              "  <tbody>\n",
              "    <tr>\n",
              "      <th>0</th>\n",
              "      <td>Freshness</td>\n",
              "      <td>Review</td>\n",
              "    </tr>\n",
              "    <tr>\n",
              "      <th>1</th>\n",
              "      <td>fresh</td>\n",
              "      <td>Manakamana doesn't answer any questions, yet ...</td>\n",
              "    </tr>\n",
              "    <tr>\n",
              "      <th>2</th>\n",
              "      <td>fresh</td>\n",
              "      <td>Wilfully offensive and powered by a chest-thu...</td>\n",
              "    </tr>\n",
              "    <tr>\n",
              "      <th>3</th>\n",
              "      <td>rotten</td>\n",
              "      <td>It would be difficult to imagine material mor...</td>\n",
              "    </tr>\n",
              "    <tr>\n",
              "      <th>4</th>\n",
              "      <td>rotten</td>\n",
              "      <td>Despite the gusto its star brings to the role...</td>\n",
              "    </tr>\n",
              "  </tbody>\n",
              "</table>\n",
              "</div>\n",
              "      <button class=\"colab-df-convert\" onclick=\"convertToInteractive('df-ae3e206b-684f-490b-a7aa-4b170626dd58')\"\n",
              "              title=\"Convert this dataframe to an interactive table.\"\n",
              "              style=\"display:none;\">\n",
              "        \n",
              "  <svg xmlns=\"http://www.w3.org/2000/svg\" height=\"24px\"viewBox=\"0 0 24 24\"\n",
              "       width=\"24px\">\n",
              "    <path d=\"M0 0h24v24H0V0z\" fill=\"none\"/>\n",
              "    <path d=\"M18.56 5.44l.94 2.06.94-2.06 2.06-.94-2.06-.94-.94-2.06-.94 2.06-2.06.94zm-11 1L8.5 8.5l.94-2.06 2.06-.94-2.06-.94L8.5 2.5l-.94 2.06-2.06.94zm10 10l.94 2.06.94-2.06 2.06-.94-2.06-.94-.94-2.06-.94 2.06-2.06.94z\"/><path d=\"M17.41 7.96l-1.37-1.37c-.4-.4-.92-.59-1.43-.59-.52 0-1.04.2-1.43.59L10.3 9.45l-7.72 7.72c-.78.78-.78 2.05 0 2.83L4 21.41c.39.39.9.59 1.41.59.51 0 1.02-.2 1.41-.59l7.78-7.78 2.81-2.81c.8-.78.8-2.07 0-2.86zM5.41 20L4 18.59l7.72-7.72 1.47 1.35L5.41 20z\"/>\n",
              "  </svg>\n",
              "      </button>\n",
              "      \n",
              "  <style>\n",
              "    .colab-df-container {\n",
              "      display:flex;\n",
              "      flex-wrap:wrap;\n",
              "      gap: 12px;\n",
              "    }\n",
              "\n",
              "    .colab-df-convert {\n",
              "      background-color: #E8F0FE;\n",
              "      border: none;\n",
              "      border-radius: 50%;\n",
              "      cursor: pointer;\n",
              "      display: none;\n",
              "      fill: #1967D2;\n",
              "      height: 32px;\n",
              "      padding: 0 0 0 0;\n",
              "      width: 32px;\n",
              "    }\n",
              "\n",
              "    .colab-df-convert:hover {\n",
              "      background-color: #E2EBFA;\n",
              "      box-shadow: 0px 1px 2px rgba(60, 64, 67, 0.3), 0px 1px 3px 1px rgba(60, 64, 67, 0.15);\n",
              "      fill: #174EA6;\n",
              "    }\n",
              "\n",
              "    [theme=dark] .colab-df-convert {\n",
              "      background-color: #3B4455;\n",
              "      fill: #D2E3FC;\n",
              "    }\n",
              "\n",
              "    [theme=dark] .colab-df-convert:hover {\n",
              "      background-color: #434B5C;\n",
              "      box-shadow: 0px 1px 3px 1px rgba(0, 0, 0, 0.15);\n",
              "      filter: drop-shadow(0px 1px 2px rgba(0, 0, 0, 0.3));\n",
              "      fill: #FFFFFF;\n",
              "    }\n",
              "  </style>\n",
              "\n",
              "      <script>\n",
              "        const buttonEl =\n",
              "          document.querySelector('#df-ae3e206b-684f-490b-a7aa-4b170626dd58 button.colab-df-convert');\n",
              "        buttonEl.style.display =\n",
              "          google.colab.kernel.accessAllowed ? 'block' : 'none';\n",
              "\n",
              "        async function convertToInteractive(key) {\n",
              "          const element = document.querySelector('#df-ae3e206b-684f-490b-a7aa-4b170626dd58');\n",
              "          const dataTable =\n",
              "            await google.colab.kernel.invokeFunction('convertToInteractive',\n",
              "                                                     [key], {});\n",
              "          if (!dataTable) return;\n",
              "\n",
              "          const docLinkHtml = 'Like what you see? Visit the ' +\n",
              "            '<a target=\"_blank\" href=https://colab.research.google.com/notebooks/data_table.ipynb>data table notebook</a>'\n",
              "            + ' to learn more about interactive tables.';\n",
              "          element.innerHTML = '';\n",
              "          dataTable['output_type'] = 'display_data';\n",
              "          await google.colab.output.renderOutput(dataTable, element);\n",
              "          const docLink = document.createElement('div');\n",
              "          docLink.innerHTML = docLinkHtml;\n",
              "          element.appendChild(docLink);\n",
              "        }\n",
              "      </script>\n",
              "    </div>\n",
              "  </div>\n",
              "  "
            ]
          },
          "metadata": {},
          "execution_count": 5
        }
      ]
    },
    {
      "cell_type": "code",
      "source": [
        "rottenTomatoesData['Freshness'].count()\n",
        "rottenTomatoesData['Review'].count()"
      ],
      "metadata": {
        "colab": {
          "base_uri": "https://localhost:8080/"
        },
        "id": "RwnpcaUIt6dA",
        "outputId": "7934fee4-3ded-4b97-f54b-0ea220be988f"
      },
      "execution_count": 6,
      "outputs": [
        {
          "output_type": "execute_result",
          "data": {
            "text/plain": [
              "480001"
            ]
          },
          "metadata": {},
          "execution_count": 6
        }
      ]
    },
    {
      "cell_type": "code",
      "source": [
        "rottenTomatoesData.drop(index=0, inplace=True)"
      ],
      "metadata": {
        "id": "6JGCT9oau3Kh"
      },
      "execution_count": 7,
      "outputs": []
    },
    {
      "cell_type": "code",
      "source": [
        "rottenTomatoesData.count()"
      ],
      "metadata": {
        "colab": {
          "base_uri": "https://localhost:8080/"
        },
        "id": "BbZqhzScv715",
        "outputId": "af4617b4-6633-4b2f-c303-ee1e74008a84"
      },
      "execution_count": 8,
      "outputs": [
        {
          "output_type": "execute_result",
          "data": {
            "text/plain": [
              "Freshness    480000\n",
              "Review       480000\n",
              "dtype: int64"
            ]
          },
          "metadata": {},
          "execution_count": 8
        }
      ]
    },
    {
      "cell_type": "code",
      "source": [
        "rottenTomatoesData['Freshness']=rottenTomatoesData['Freshness'].replace({'fresh': 1, 'rotten':0})\n",
        "rottenTomatoesData"
      ],
      "metadata": {
        "colab": {
          "base_uri": "https://localhost:8080/",
          "height": 424
        },
        "id": "N_P1JCmo1Dyx",
        "outputId": "5ef898df-5b4f-4b9e-e5a3-1ceebd963bf1"
      },
      "execution_count": 9,
      "outputs": [
        {
          "output_type": "execute_result",
          "data": {
            "text/plain": [
              "        Freshness                                             Review\n",
              "1               1   Manakamana doesn't answer any questions, yet ...\n",
              "2               1   Wilfully offensive and powered by a chest-thu...\n",
              "3               0   It would be difficult to imagine material mor...\n",
              "4               0   Despite the gusto its star brings to the role...\n",
              "5               0   If there was a good idea at the core of this ...\n",
              "...           ...                                                ...\n",
              "479996          0   Zemeckis seems unable to admit that the motio...\n",
              "479997          1   Movies like The Kids Are All Right -- beautif...\n",
              "479998          0   Film-savvy audiences soon will catch onto Win...\n",
              "479999          1                        An odd yet enjoyable film. \n",
              "480000          1   No other animation studio, even our beloved P...\n",
              "\n",
              "[480000 rows x 2 columns]"
            ],
            "text/html": [
              "\n",
              "  <div id=\"df-1f16c80b-eda4-423e-935c-2d8e6fa0c563\">\n",
              "    <div class=\"colab-df-container\">\n",
              "      <div>\n",
              "<style scoped>\n",
              "    .dataframe tbody tr th:only-of-type {\n",
              "        vertical-align: middle;\n",
              "    }\n",
              "\n",
              "    .dataframe tbody tr th {\n",
              "        vertical-align: top;\n",
              "    }\n",
              "\n",
              "    .dataframe thead th {\n",
              "        text-align: right;\n",
              "    }\n",
              "</style>\n",
              "<table border=\"1\" class=\"dataframe\">\n",
              "  <thead>\n",
              "    <tr style=\"text-align: right;\">\n",
              "      <th></th>\n",
              "      <th>Freshness</th>\n",
              "      <th>Review</th>\n",
              "    </tr>\n",
              "  </thead>\n",
              "  <tbody>\n",
              "    <tr>\n",
              "      <th>1</th>\n",
              "      <td>1</td>\n",
              "      <td>Manakamana doesn't answer any questions, yet ...</td>\n",
              "    </tr>\n",
              "    <tr>\n",
              "      <th>2</th>\n",
              "      <td>1</td>\n",
              "      <td>Wilfully offensive and powered by a chest-thu...</td>\n",
              "    </tr>\n",
              "    <tr>\n",
              "      <th>3</th>\n",
              "      <td>0</td>\n",
              "      <td>It would be difficult to imagine material mor...</td>\n",
              "    </tr>\n",
              "    <tr>\n",
              "      <th>4</th>\n",
              "      <td>0</td>\n",
              "      <td>Despite the gusto its star brings to the role...</td>\n",
              "    </tr>\n",
              "    <tr>\n",
              "      <th>5</th>\n",
              "      <td>0</td>\n",
              "      <td>If there was a good idea at the core of this ...</td>\n",
              "    </tr>\n",
              "    <tr>\n",
              "      <th>...</th>\n",
              "      <td>...</td>\n",
              "      <td>...</td>\n",
              "    </tr>\n",
              "    <tr>\n",
              "      <th>479996</th>\n",
              "      <td>0</td>\n",
              "      <td>Zemeckis seems unable to admit that the motio...</td>\n",
              "    </tr>\n",
              "    <tr>\n",
              "      <th>479997</th>\n",
              "      <td>1</td>\n",
              "      <td>Movies like The Kids Are All Right -- beautif...</td>\n",
              "    </tr>\n",
              "    <tr>\n",
              "      <th>479998</th>\n",
              "      <td>0</td>\n",
              "      <td>Film-savvy audiences soon will catch onto Win...</td>\n",
              "    </tr>\n",
              "    <tr>\n",
              "      <th>479999</th>\n",
              "      <td>1</td>\n",
              "      <td>An odd yet enjoyable film.</td>\n",
              "    </tr>\n",
              "    <tr>\n",
              "      <th>480000</th>\n",
              "      <td>1</td>\n",
              "      <td>No other animation studio, even our beloved P...</td>\n",
              "    </tr>\n",
              "  </tbody>\n",
              "</table>\n",
              "<p>480000 rows × 2 columns</p>\n",
              "</div>\n",
              "      <button class=\"colab-df-convert\" onclick=\"convertToInteractive('df-1f16c80b-eda4-423e-935c-2d8e6fa0c563')\"\n",
              "              title=\"Convert this dataframe to an interactive table.\"\n",
              "              style=\"display:none;\">\n",
              "        \n",
              "  <svg xmlns=\"http://www.w3.org/2000/svg\" height=\"24px\"viewBox=\"0 0 24 24\"\n",
              "       width=\"24px\">\n",
              "    <path d=\"M0 0h24v24H0V0z\" fill=\"none\"/>\n",
              "    <path d=\"M18.56 5.44l.94 2.06.94-2.06 2.06-.94-2.06-.94-.94-2.06-.94 2.06-2.06.94zm-11 1L8.5 8.5l.94-2.06 2.06-.94-2.06-.94L8.5 2.5l-.94 2.06-2.06.94zm10 10l.94 2.06.94-2.06 2.06-.94-2.06-.94-.94-2.06-.94 2.06-2.06.94z\"/><path d=\"M17.41 7.96l-1.37-1.37c-.4-.4-.92-.59-1.43-.59-.52 0-1.04.2-1.43.59L10.3 9.45l-7.72 7.72c-.78.78-.78 2.05 0 2.83L4 21.41c.39.39.9.59 1.41.59.51 0 1.02-.2 1.41-.59l7.78-7.78 2.81-2.81c.8-.78.8-2.07 0-2.86zM5.41 20L4 18.59l7.72-7.72 1.47 1.35L5.41 20z\"/>\n",
              "  </svg>\n",
              "      </button>\n",
              "      \n",
              "  <style>\n",
              "    .colab-df-container {\n",
              "      display:flex;\n",
              "      flex-wrap:wrap;\n",
              "      gap: 12px;\n",
              "    }\n",
              "\n",
              "    .colab-df-convert {\n",
              "      background-color: #E8F0FE;\n",
              "      border: none;\n",
              "      border-radius: 50%;\n",
              "      cursor: pointer;\n",
              "      display: none;\n",
              "      fill: #1967D2;\n",
              "      height: 32px;\n",
              "      padding: 0 0 0 0;\n",
              "      width: 32px;\n",
              "    }\n",
              "\n",
              "    .colab-df-convert:hover {\n",
              "      background-color: #E2EBFA;\n",
              "      box-shadow: 0px 1px 2px rgba(60, 64, 67, 0.3), 0px 1px 3px 1px rgba(60, 64, 67, 0.15);\n",
              "      fill: #174EA6;\n",
              "    }\n",
              "\n",
              "    [theme=dark] .colab-df-convert {\n",
              "      background-color: #3B4455;\n",
              "      fill: #D2E3FC;\n",
              "    }\n",
              "\n",
              "    [theme=dark] .colab-df-convert:hover {\n",
              "      background-color: #434B5C;\n",
              "      box-shadow: 0px 1px 3px 1px rgba(0, 0, 0, 0.15);\n",
              "      filter: drop-shadow(0px 1px 2px rgba(0, 0, 0, 0.3));\n",
              "      fill: #FFFFFF;\n",
              "    }\n",
              "  </style>\n",
              "\n",
              "      <script>\n",
              "        const buttonEl =\n",
              "          document.querySelector('#df-1f16c80b-eda4-423e-935c-2d8e6fa0c563 button.colab-df-convert');\n",
              "        buttonEl.style.display =\n",
              "          google.colab.kernel.accessAllowed ? 'block' : 'none';\n",
              "\n",
              "        async function convertToInteractive(key) {\n",
              "          const element = document.querySelector('#df-1f16c80b-eda4-423e-935c-2d8e6fa0c563');\n",
              "          const dataTable =\n",
              "            await google.colab.kernel.invokeFunction('convertToInteractive',\n",
              "                                                     [key], {});\n",
              "          if (!dataTable) return;\n",
              "\n",
              "          const docLinkHtml = 'Like what you see? Visit the ' +\n",
              "            '<a target=\"_blank\" href=https://colab.research.google.com/notebooks/data_table.ipynb>data table notebook</a>'\n",
              "            + ' to learn more about interactive tables.';\n",
              "          element.innerHTML = '';\n",
              "          dataTable['output_type'] = 'display_data';\n",
              "          await google.colab.output.renderOutput(dataTable, element);\n",
              "          const docLink = document.createElement('div');\n",
              "          docLink.innerHTML = docLinkHtml;\n",
              "          element.appendChild(docLink);\n",
              "        }\n",
              "      </script>\n",
              "    </div>\n",
              "  </div>\n",
              "  "
            ]
          },
          "metadata": {},
          "execution_count": 9
        }
      ]
    },
    {
      "cell_type": "code",
      "source": [
        "rottenTomatoesData.shape"
      ],
      "metadata": {
        "colab": {
          "base_uri": "https://localhost:8080/"
        },
        "id": "OeYqJQ3LH8gd",
        "outputId": "88b294f8-b873-433e-d05d-673eb7f2ca8f"
      },
      "execution_count": 10,
      "outputs": [
        {
          "output_type": "execute_result",
          "data": {
            "text/plain": [
              "(480000, 2)"
            ]
          },
          "metadata": {},
          "execution_count": 10
        }
      ]
    },
    {
      "cell_type": "code",
      "source": [
        "rottenTomatoesData.describe()"
      ],
      "metadata": {
        "colab": {
          "base_uri": "https://localhost:8080/",
          "height": 300
        },
        "id": "6QW2VpBxIFL7",
        "outputId": "b06a17c8-4de0-418d-a331-eb91610c53b2"
      },
      "execution_count": 11,
      "outputs": [
        {
          "output_type": "execute_result",
          "data": {
            "text/plain": [
              "           Freshness\n",
              "count  480000.000000\n",
              "mean        0.500000\n",
              "std         0.500001\n",
              "min         0.000000\n",
              "25%         0.000000\n",
              "50%         0.500000\n",
              "75%         1.000000\n",
              "max         1.000000"
            ],
            "text/html": [
              "\n",
              "  <div id=\"df-c1b4696b-a1f7-479c-a888-c9aaa8c651b5\">\n",
              "    <div class=\"colab-df-container\">\n",
              "      <div>\n",
              "<style scoped>\n",
              "    .dataframe tbody tr th:only-of-type {\n",
              "        vertical-align: middle;\n",
              "    }\n",
              "\n",
              "    .dataframe tbody tr th {\n",
              "        vertical-align: top;\n",
              "    }\n",
              "\n",
              "    .dataframe thead th {\n",
              "        text-align: right;\n",
              "    }\n",
              "</style>\n",
              "<table border=\"1\" class=\"dataframe\">\n",
              "  <thead>\n",
              "    <tr style=\"text-align: right;\">\n",
              "      <th></th>\n",
              "      <th>Freshness</th>\n",
              "    </tr>\n",
              "  </thead>\n",
              "  <tbody>\n",
              "    <tr>\n",
              "      <th>count</th>\n",
              "      <td>480000.000000</td>\n",
              "    </tr>\n",
              "    <tr>\n",
              "      <th>mean</th>\n",
              "      <td>0.500000</td>\n",
              "    </tr>\n",
              "    <tr>\n",
              "      <th>std</th>\n",
              "      <td>0.500001</td>\n",
              "    </tr>\n",
              "    <tr>\n",
              "      <th>min</th>\n",
              "      <td>0.000000</td>\n",
              "    </tr>\n",
              "    <tr>\n",
              "      <th>25%</th>\n",
              "      <td>0.000000</td>\n",
              "    </tr>\n",
              "    <tr>\n",
              "      <th>50%</th>\n",
              "      <td>0.500000</td>\n",
              "    </tr>\n",
              "    <tr>\n",
              "      <th>75%</th>\n",
              "      <td>1.000000</td>\n",
              "    </tr>\n",
              "    <tr>\n",
              "      <th>max</th>\n",
              "      <td>1.000000</td>\n",
              "    </tr>\n",
              "  </tbody>\n",
              "</table>\n",
              "</div>\n",
              "      <button class=\"colab-df-convert\" onclick=\"convertToInteractive('df-c1b4696b-a1f7-479c-a888-c9aaa8c651b5')\"\n",
              "              title=\"Convert this dataframe to an interactive table.\"\n",
              "              style=\"display:none;\">\n",
              "        \n",
              "  <svg xmlns=\"http://www.w3.org/2000/svg\" height=\"24px\"viewBox=\"0 0 24 24\"\n",
              "       width=\"24px\">\n",
              "    <path d=\"M0 0h24v24H0V0z\" fill=\"none\"/>\n",
              "    <path d=\"M18.56 5.44l.94 2.06.94-2.06 2.06-.94-2.06-.94-.94-2.06-.94 2.06-2.06.94zm-11 1L8.5 8.5l.94-2.06 2.06-.94-2.06-.94L8.5 2.5l-.94 2.06-2.06.94zm10 10l.94 2.06.94-2.06 2.06-.94-2.06-.94-.94-2.06-.94 2.06-2.06.94z\"/><path d=\"M17.41 7.96l-1.37-1.37c-.4-.4-.92-.59-1.43-.59-.52 0-1.04.2-1.43.59L10.3 9.45l-7.72 7.72c-.78.78-.78 2.05 0 2.83L4 21.41c.39.39.9.59 1.41.59.51 0 1.02-.2 1.41-.59l7.78-7.78 2.81-2.81c.8-.78.8-2.07 0-2.86zM5.41 20L4 18.59l7.72-7.72 1.47 1.35L5.41 20z\"/>\n",
              "  </svg>\n",
              "      </button>\n",
              "      \n",
              "  <style>\n",
              "    .colab-df-container {\n",
              "      display:flex;\n",
              "      flex-wrap:wrap;\n",
              "      gap: 12px;\n",
              "    }\n",
              "\n",
              "    .colab-df-convert {\n",
              "      background-color: #E8F0FE;\n",
              "      border: none;\n",
              "      border-radius: 50%;\n",
              "      cursor: pointer;\n",
              "      display: none;\n",
              "      fill: #1967D2;\n",
              "      height: 32px;\n",
              "      padding: 0 0 0 0;\n",
              "      width: 32px;\n",
              "    }\n",
              "\n",
              "    .colab-df-convert:hover {\n",
              "      background-color: #E2EBFA;\n",
              "      box-shadow: 0px 1px 2px rgba(60, 64, 67, 0.3), 0px 1px 3px 1px rgba(60, 64, 67, 0.15);\n",
              "      fill: #174EA6;\n",
              "    }\n",
              "\n",
              "    [theme=dark] .colab-df-convert {\n",
              "      background-color: #3B4455;\n",
              "      fill: #D2E3FC;\n",
              "    }\n",
              "\n",
              "    [theme=dark] .colab-df-convert:hover {\n",
              "      background-color: #434B5C;\n",
              "      box-shadow: 0px 1px 3px 1px rgba(0, 0, 0, 0.15);\n",
              "      filter: drop-shadow(0px 1px 2px rgba(0, 0, 0, 0.3));\n",
              "      fill: #FFFFFF;\n",
              "    }\n",
              "  </style>\n",
              "\n",
              "      <script>\n",
              "        const buttonEl =\n",
              "          document.querySelector('#df-c1b4696b-a1f7-479c-a888-c9aaa8c651b5 button.colab-df-convert');\n",
              "        buttonEl.style.display =\n",
              "          google.colab.kernel.accessAllowed ? 'block' : 'none';\n",
              "\n",
              "        async function convertToInteractive(key) {\n",
              "          const element = document.querySelector('#df-c1b4696b-a1f7-479c-a888-c9aaa8c651b5');\n",
              "          const dataTable =\n",
              "            await google.colab.kernel.invokeFunction('convertToInteractive',\n",
              "                                                     [key], {});\n",
              "          if (!dataTable) return;\n",
              "\n",
              "          const docLinkHtml = 'Like what you see? Visit the ' +\n",
              "            '<a target=\"_blank\" href=https://colab.research.google.com/notebooks/data_table.ipynb>data table notebook</a>'\n",
              "            + ' to learn more about interactive tables.';\n",
              "          element.innerHTML = '';\n",
              "          dataTable['output_type'] = 'display_data';\n",
              "          await google.colab.output.renderOutput(dataTable, element);\n",
              "          const docLink = document.createElement('div');\n",
              "          docLink.innerHTML = docLinkHtml;\n",
              "          element.appendChild(docLink);\n",
              "        }\n",
              "      </script>\n",
              "    </div>\n",
              "  </div>\n",
              "  "
            ]
          },
          "metadata": {},
          "execution_count": 11
        }
      ]
    },
    {
      "cell_type": "code",
      "source": [
        "rottenTomatoesData.info()"
      ],
      "metadata": {
        "colab": {
          "base_uri": "https://localhost:8080/"
        },
        "id": "AqeZxk4_IHup",
        "outputId": "a01ce808-d103-4be8-9d90-7093400ac01f"
      },
      "execution_count": 12,
      "outputs": [
        {
          "output_type": "stream",
          "name": "stdout",
          "text": [
            "<class 'pandas.core.frame.DataFrame'>\n",
            "RangeIndex: 480000 entries, 1 to 480000\n",
            "Data columns (total 2 columns):\n",
            " #   Column     Non-Null Count   Dtype \n",
            "---  ------     --------------   ----- \n",
            " 0   Freshness  480000 non-null  int64 \n",
            " 1   Review     480000 non-null  object\n",
            "dtypes: int64(1), object(1)\n",
            "memory usage: 7.3+ MB\n"
          ]
        }
      ]
    },
    {
      "cell_type": "code",
      "source": [
        "# Dataset Split into 70:15:15 percentage - training:test:validation \n",
        "\n",
        "def split(data, eighty, ten):\n",
        "    first = int((eighty*len(data))/100)\n",
        "    second = int(((eighty+ten)*len(data))/100)\n",
        "    return data[:first], data[first:second], data[second:]\n",
        "\n",
        "trainData, testData, validationData = split(rottenTomatoesData, 70, 15)       \n",
        "trainData.head()"
      ],
      "metadata": {
        "colab": {
          "base_uri": "https://localhost:8080/",
          "height": 206
        },
        "id": "25T-7g9YrqhA",
        "outputId": "4e0432f3-013d-4f5b-c42f-b4d45d0cecfc"
      },
      "execution_count": 13,
      "outputs": [
        {
          "output_type": "execute_result",
          "data": {
            "text/plain": [
              "   Freshness                                             Review\n",
              "1          1   Manakamana doesn't answer any questions, yet ...\n",
              "2          1   Wilfully offensive and powered by a chest-thu...\n",
              "3          0   It would be difficult to imagine material mor...\n",
              "4          0   Despite the gusto its star brings to the role...\n",
              "5          0   If there was a good idea at the core of this ..."
            ],
            "text/html": [
              "\n",
              "  <div id=\"df-e305a0c9-461b-4b41-b583-c06cb84ed76a\">\n",
              "    <div class=\"colab-df-container\">\n",
              "      <div>\n",
              "<style scoped>\n",
              "    .dataframe tbody tr th:only-of-type {\n",
              "        vertical-align: middle;\n",
              "    }\n",
              "\n",
              "    .dataframe tbody tr th {\n",
              "        vertical-align: top;\n",
              "    }\n",
              "\n",
              "    .dataframe thead th {\n",
              "        text-align: right;\n",
              "    }\n",
              "</style>\n",
              "<table border=\"1\" class=\"dataframe\">\n",
              "  <thead>\n",
              "    <tr style=\"text-align: right;\">\n",
              "      <th></th>\n",
              "      <th>Freshness</th>\n",
              "      <th>Review</th>\n",
              "    </tr>\n",
              "  </thead>\n",
              "  <tbody>\n",
              "    <tr>\n",
              "      <th>1</th>\n",
              "      <td>1</td>\n",
              "      <td>Manakamana doesn't answer any questions, yet ...</td>\n",
              "    </tr>\n",
              "    <tr>\n",
              "      <th>2</th>\n",
              "      <td>1</td>\n",
              "      <td>Wilfully offensive and powered by a chest-thu...</td>\n",
              "    </tr>\n",
              "    <tr>\n",
              "      <th>3</th>\n",
              "      <td>0</td>\n",
              "      <td>It would be difficult to imagine material mor...</td>\n",
              "    </tr>\n",
              "    <tr>\n",
              "      <th>4</th>\n",
              "      <td>0</td>\n",
              "      <td>Despite the gusto its star brings to the role...</td>\n",
              "    </tr>\n",
              "    <tr>\n",
              "      <th>5</th>\n",
              "      <td>0</td>\n",
              "      <td>If there was a good idea at the core of this ...</td>\n",
              "    </tr>\n",
              "  </tbody>\n",
              "</table>\n",
              "</div>\n",
              "      <button class=\"colab-df-convert\" onclick=\"convertToInteractive('df-e305a0c9-461b-4b41-b583-c06cb84ed76a')\"\n",
              "              title=\"Convert this dataframe to an interactive table.\"\n",
              "              style=\"display:none;\">\n",
              "        \n",
              "  <svg xmlns=\"http://www.w3.org/2000/svg\" height=\"24px\"viewBox=\"0 0 24 24\"\n",
              "       width=\"24px\">\n",
              "    <path d=\"M0 0h24v24H0V0z\" fill=\"none\"/>\n",
              "    <path d=\"M18.56 5.44l.94 2.06.94-2.06 2.06-.94-2.06-.94-.94-2.06-.94 2.06-2.06.94zm-11 1L8.5 8.5l.94-2.06 2.06-.94-2.06-.94L8.5 2.5l-.94 2.06-2.06.94zm10 10l.94 2.06.94-2.06 2.06-.94-2.06-.94-.94-2.06-.94 2.06-2.06.94z\"/><path d=\"M17.41 7.96l-1.37-1.37c-.4-.4-.92-.59-1.43-.59-.52 0-1.04.2-1.43.59L10.3 9.45l-7.72 7.72c-.78.78-.78 2.05 0 2.83L4 21.41c.39.39.9.59 1.41.59.51 0 1.02-.2 1.41-.59l7.78-7.78 2.81-2.81c.8-.78.8-2.07 0-2.86zM5.41 20L4 18.59l7.72-7.72 1.47 1.35L5.41 20z\"/>\n",
              "  </svg>\n",
              "      </button>\n",
              "      \n",
              "  <style>\n",
              "    .colab-df-container {\n",
              "      display:flex;\n",
              "      flex-wrap:wrap;\n",
              "      gap: 12px;\n",
              "    }\n",
              "\n",
              "    .colab-df-convert {\n",
              "      background-color: #E8F0FE;\n",
              "      border: none;\n",
              "      border-radius: 50%;\n",
              "      cursor: pointer;\n",
              "      display: none;\n",
              "      fill: #1967D2;\n",
              "      height: 32px;\n",
              "      padding: 0 0 0 0;\n",
              "      width: 32px;\n",
              "    }\n",
              "\n",
              "    .colab-df-convert:hover {\n",
              "      background-color: #E2EBFA;\n",
              "      box-shadow: 0px 1px 2px rgba(60, 64, 67, 0.3), 0px 1px 3px 1px rgba(60, 64, 67, 0.15);\n",
              "      fill: #174EA6;\n",
              "    }\n",
              "\n",
              "    [theme=dark] .colab-df-convert {\n",
              "      background-color: #3B4455;\n",
              "      fill: #D2E3FC;\n",
              "    }\n",
              "\n",
              "    [theme=dark] .colab-df-convert:hover {\n",
              "      background-color: #434B5C;\n",
              "      box-shadow: 0px 1px 3px 1px rgba(0, 0, 0, 0.15);\n",
              "      filter: drop-shadow(0px 1px 2px rgba(0, 0, 0, 0.3));\n",
              "      fill: #FFFFFF;\n",
              "    }\n",
              "  </style>\n",
              "\n",
              "      <script>\n",
              "        const buttonEl =\n",
              "          document.querySelector('#df-e305a0c9-461b-4b41-b583-c06cb84ed76a button.colab-df-convert');\n",
              "        buttonEl.style.display =\n",
              "          google.colab.kernel.accessAllowed ? 'block' : 'none';\n",
              "\n",
              "        async function convertToInteractive(key) {\n",
              "          const element = document.querySelector('#df-e305a0c9-461b-4b41-b583-c06cb84ed76a');\n",
              "          const dataTable =\n",
              "            await google.colab.kernel.invokeFunction('convertToInteractive',\n",
              "                                                     [key], {});\n",
              "          if (!dataTable) return;\n",
              "\n",
              "          const docLinkHtml = 'Like what you see? Visit the ' +\n",
              "            '<a target=\"_blank\" href=https://colab.research.google.com/notebooks/data_table.ipynb>data table notebook</a>'\n",
              "            + ' to learn more about interactive tables.';\n",
              "          element.innerHTML = '';\n",
              "          dataTable['output_type'] = 'display_data';\n",
              "          await google.colab.output.renderOutput(dataTable, element);\n",
              "          const docLink = document.createElement('div');\n",
              "          docLink.innerHTML = docLinkHtml;\n",
              "          element.appendChild(docLink);\n",
              "        }\n",
              "      </script>\n",
              "    </div>\n",
              "  </div>\n",
              "  "
            ]
          },
          "metadata": {},
          "execution_count": 13
        }
      ]
    },
    {
      "cell_type": "code",
      "source": [
        "np.random.seed(0)"
      ],
      "metadata": {
        "id": "r8zsl7Zj8Up_"
      },
      "execution_count": 14,
      "outputs": []
    },
    {
      "cell_type": "markdown",
      "source": [
        "**For Taining Data:**"
      ],
      "metadata": {
        "id": "n0EKS62dCsTe"
      }
    },
    {
      "cell_type": "code",
      "source": [
        "trainData.groupby('Freshness').count()"
      ],
      "metadata": {
        "id": "HWUVmDynA4Qn",
        "colab": {
          "base_uri": "https://localhost:8080/",
          "height": 144
        },
        "outputId": "698ab51a-5582-4ea5-b236-9941ce27edfc"
      },
      "execution_count": 15,
      "outputs": [
        {
          "output_type": "execute_result",
          "data": {
            "text/plain": [
              "           Review\n",
              "Freshness        \n",
              "0          167705\n",
              "1          168295"
            ],
            "text/html": [
              "\n",
              "  <div id=\"df-f350e231-b15d-4d03-99d2-234c0c54c72b\">\n",
              "    <div class=\"colab-df-container\">\n",
              "      <div>\n",
              "<style scoped>\n",
              "    .dataframe tbody tr th:only-of-type {\n",
              "        vertical-align: middle;\n",
              "    }\n",
              "\n",
              "    .dataframe tbody tr th {\n",
              "        vertical-align: top;\n",
              "    }\n",
              "\n",
              "    .dataframe thead th {\n",
              "        text-align: right;\n",
              "    }\n",
              "</style>\n",
              "<table border=\"1\" class=\"dataframe\">\n",
              "  <thead>\n",
              "    <tr style=\"text-align: right;\">\n",
              "      <th></th>\n",
              "      <th>Review</th>\n",
              "    </tr>\n",
              "    <tr>\n",
              "      <th>Freshness</th>\n",
              "      <th></th>\n",
              "    </tr>\n",
              "  </thead>\n",
              "  <tbody>\n",
              "    <tr>\n",
              "      <th>0</th>\n",
              "      <td>167705</td>\n",
              "    </tr>\n",
              "    <tr>\n",
              "      <th>1</th>\n",
              "      <td>168295</td>\n",
              "    </tr>\n",
              "  </tbody>\n",
              "</table>\n",
              "</div>\n",
              "      <button class=\"colab-df-convert\" onclick=\"convertToInteractive('df-f350e231-b15d-4d03-99d2-234c0c54c72b')\"\n",
              "              title=\"Convert this dataframe to an interactive table.\"\n",
              "              style=\"display:none;\">\n",
              "        \n",
              "  <svg xmlns=\"http://www.w3.org/2000/svg\" height=\"24px\"viewBox=\"0 0 24 24\"\n",
              "       width=\"24px\">\n",
              "    <path d=\"M0 0h24v24H0V0z\" fill=\"none\"/>\n",
              "    <path d=\"M18.56 5.44l.94 2.06.94-2.06 2.06-.94-2.06-.94-.94-2.06-.94 2.06-2.06.94zm-11 1L8.5 8.5l.94-2.06 2.06-.94-2.06-.94L8.5 2.5l-.94 2.06-2.06.94zm10 10l.94 2.06.94-2.06 2.06-.94-2.06-.94-.94-2.06-.94 2.06-2.06.94z\"/><path d=\"M17.41 7.96l-1.37-1.37c-.4-.4-.92-.59-1.43-.59-.52 0-1.04.2-1.43.59L10.3 9.45l-7.72 7.72c-.78.78-.78 2.05 0 2.83L4 21.41c.39.39.9.59 1.41.59.51 0 1.02-.2 1.41-.59l7.78-7.78 2.81-2.81c.8-.78.8-2.07 0-2.86zM5.41 20L4 18.59l7.72-7.72 1.47 1.35L5.41 20z\"/>\n",
              "  </svg>\n",
              "      </button>\n",
              "      \n",
              "  <style>\n",
              "    .colab-df-container {\n",
              "      display:flex;\n",
              "      flex-wrap:wrap;\n",
              "      gap: 12px;\n",
              "    }\n",
              "\n",
              "    .colab-df-convert {\n",
              "      background-color: #E8F0FE;\n",
              "      border: none;\n",
              "      border-radius: 50%;\n",
              "      cursor: pointer;\n",
              "      display: none;\n",
              "      fill: #1967D2;\n",
              "      height: 32px;\n",
              "      padding: 0 0 0 0;\n",
              "      width: 32px;\n",
              "    }\n",
              "\n",
              "    .colab-df-convert:hover {\n",
              "      background-color: #E2EBFA;\n",
              "      box-shadow: 0px 1px 2px rgba(60, 64, 67, 0.3), 0px 1px 3px 1px rgba(60, 64, 67, 0.15);\n",
              "      fill: #174EA6;\n",
              "    }\n",
              "\n",
              "    [theme=dark] .colab-df-convert {\n",
              "      background-color: #3B4455;\n",
              "      fill: #D2E3FC;\n",
              "    }\n",
              "\n",
              "    [theme=dark] .colab-df-convert:hover {\n",
              "      background-color: #434B5C;\n",
              "      box-shadow: 0px 1px 3px 1px rgba(0, 0, 0, 0.15);\n",
              "      filter: drop-shadow(0px 1px 2px rgba(0, 0, 0, 0.3));\n",
              "      fill: #FFFFFF;\n",
              "    }\n",
              "  </style>\n",
              "\n",
              "      <script>\n",
              "        const buttonEl =\n",
              "          document.querySelector('#df-f350e231-b15d-4d03-99d2-234c0c54c72b button.colab-df-convert');\n",
              "        buttonEl.style.display =\n",
              "          google.colab.kernel.accessAllowed ? 'block' : 'none';\n",
              "\n",
              "        async function convertToInteractive(key) {\n",
              "          const element = document.querySelector('#df-f350e231-b15d-4d03-99d2-234c0c54c72b');\n",
              "          const dataTable =\n",
              "            await google.colab.kernel.invokeFunction('convertToInteractive',\n",
              "                                                     [key], {});\n",
              "          if (!dataTable) return;\n",
              "\n",
              "          const docLinkHtml = 'Like what you see? Visit the ' +\n",
              "            '<a target=\"_blank\" href=https://colab.research.google.com/notebooks/data_table.ipynb>data table notebook</a>'\n",
              "            + ' to learn more about interactive tables.';\n",
              "          element.innerHTML = '';\n",
              "          dataTable['output_type'] = 'display_data';\n",
              "          await google.colab.output.renderOutput(dataTable, element);\n",
              "          const docLink = document.createElement('div');\n",
              "          docLink.innerHTML = docLinkHtml;\n",
              "          element.appendChild(docLink);\n",
              "        }\n",
              "      </script>\n",
              "    </div>\n",
              "  </div>\n",
              "  "
            ]
          },
          "metadata": {},
          "execution_count": 15
        }
      ]
    },
    {
      "cell_type": "code",
      "source": [
        "print(\"For Training Data: \")\n",
        "print(\"Number of Positive reviews: \", len(trainData[trainData['Freshness']==1]))\n",
        "print(\"Number of Negative reviews: \", len(trainData[trainData['Freshness']==0]))\n",
        "  \n",
        "print(\"Probablity of positive reviews: \", len(trainData[trainData['Freshness']==1]) / len(trainData))\n",
        "print(\"Probablity of negative reviews: \", len(trainData[trainData['Freshness']==0]) / len(trainData))"
      ],
      "metadata": {
        "colab": {
          "base_uri": "https://localhost:8080/"
        },
        "id": "gtbRETVpwxiY",
        "outputId": "750bc687-c427-4508-e3d9-a77291dcc8c6"
      },
      "execution_count": 16,
      "outputs": [
        {
          "output_type": "stream",
          "name": "stdout",
          "text": [
            "For Training Data: \n",
            "Number of Positive reviews:  168295\n",
            "Number of Negative reviews:  167705\n",
            "Probablity of positive reviews:  0.5008779761904761\n",
            "Probablity of negative reviews:  0.4991220238095238\n"
          ]
        }
      ]
    },
    {
      "cell_type": "code",
      "source": [
        "# cleansing data\n",
        "trainData = trainData.reindex(np.random.permutation(trainData.index))\n",
        "trainData.columns = trainData.columns.str.strip()\n",
        "trainData.columns = trainData.columns.str.replace(r\"[^a-zA-Z\\d\\_]+\", \"\", regex = True)\n",
        "trainData = trainData.replace([\"' \", \" '\",\";\",\":\",\"=\",\"\\+\",\"<\", \">\", \"\\?\", \"!\", \"\\\\\\\\\", \"@\", \"#\", \"$\", \"\\*\", \"%\", \",\", \"\\.\", \"\\(\", \"\\)\", \"\\[\", \"\\]\", \"\\{\", \"\\}\", \"\\\"\", \"/br\"], \"\", regex = True)"
      ],
      "metadata": {
        "id": "vTPP60kxDfiN"
      },
      "execution_count": 17,
      "outputs": []
    },
    {
      "cell_type": "code",
      "source": [
        "trainData.head()"
      ],
      "metadata": {
        "colab": {
          "base_uri": "https://localhost:8080/",
          "height": 206
        },
        "id": "oE4WTaB-EnZ5",
        "outputId": "09cd9c93-fcff-4e20-e298-651d2e0900ca"
      },
      "execution_count": 18,
      "outputs": [
        {
          "output_type": "execute_result",
          "data": {
            "text/plain": [
              "        Freshness                                             Review\n",
              "96959           0                                  a trial to endure\n",
              "19700           1   In a career that has seen actor Phillip Seymo...\n",
              "6861            0   It's mostly all doom and gloom Fans of Baumba...\n",
              "261927          0   This is one karate chop too manymaster Morita...\n",
              "34661           1                      I had a pretty excellent time"
            ],
            "text/html": [
              "\n",
              "  <div id=\"df-16ec61f0-386f-4aeb-9543-ca8f8479f490\">\n",
              "    <div class=\"colab-df-container\">\n",
              "      <div>\n",
              "<style scoped>\n",
              "    .dataframe tbody tr th:only-of-type {\n",
              "        vertical-align: middle;\n",
              "    }\n",
              "\n",
              "    .dataframe tbody tr th {\n",
              "        vertical-align: top;\n",
              "    }\n",
              "\n",
              "    .dataframe thead th {\n",
              "        text-align: right;\n",
              "    }\n",
              "</style>\n",
              "<table border=\"1\" class=\"dataframe\">\n",
              "  <thead>\n",
              "    <tr style=\"text-align: right;\">\n",
              "      <th></th>\n",
              "      <th>Freshness</th>\n",
              "      <th>Review</th>\n",
              "    </tr>\n",
              "  </thead>\n",
              "  <tbody>\n",
              "    <tr>\n",
              "      <th>96959</th>\n",
              "      <td>0</td>\n",
              "      <td>a trial to endure</td>\n",
              "    </tr>\n",
              "    <tr>\n",
              "      <th>19700</th>\n",
              "      <td>1</td>\n",
              "      <td>In a career that has seen actor Phillip Seymo...</td>\n",
              "    </tr>\n",
              "    <tr>\n",
              "      <th>6861</th>\n",
              "      <td>0</td>\n",
              "      <td>It's mostly all doom and gloom Fans of Baumba...</td>\n",
              "    </tr>\n",
              "    <tr>\n",
              "      <th>261927</th>\n",
              "      <td>0</td>\n",
              "      <td>This is one karate chop too manymaster Morita...</td>\n",
              "    </tr>\n",
              "    <tr>\n",
              "      <th>34661</th>\n",
              "      <td>1</td>\n",
              "      <td>I had a pretty excellent time</td>\n",
              "    </tr>\n",
              "  </tbody>\n",
              "</table>\n",
              "</div>\n",
              "      <button class=\"colab-df-convert\" onclick=\"convertToInteractive('df-16ec61f0-386f-4aeb-9543-ca8f8479f490')\"\n",
              "              title=\"Convert this dataframe to an interactive table.\"\n",
              "              style=\"display:none;\">\n",
              "        \n",
              "  <svg xmlns=\"http://www.w3.org/2000/svg\" height=\"24px\"viewBox=\"0 0 24 24\"\n",
              "       width=\"24px\">\n",
              "    <path d=\"M0 0h24v24H0V0z\" fill=\"none\"/>\n",
              "    <path d=\"M18.56 5.44l.94 2.06.94-2.06 2.06-.94-2.06-.94-.94-2.06-.94 2.06-2.06.94zm-11 1L8.5 8.5l.94-2.06 2.06-.94-2.06-.94L8.5 2.5l-.94 2.06-2.06.94zm10 10l.94 2.06.94-2.06 2.06-.94-2.06-.94-.94-2.06-.94 2.06-2.06.94z\"/><path d=\"M17.41 7.96l-1.37-1.37c-.4-.4-.92-.59-1.43-.59-.52 0-1.04.2-1.43.59L10.3 9.45l-7.72 7.72c-.78.78-.78 2.05 0 2.83L4 21.41c.39.39.9.59 1.41.59.51 0 1.02-.2 1.41-.59l7.78-7.78 2.81-2.81c.8-.78.8-2.07 0-2.86zM5.41 20L4 18.59l7.72-7.72 1.47 1.35L5.41 20z\"/>\n",
              "  </svg>\n",
              "      </button>\n",
              "      \n",
              "  <style>\n",
              "    .colab-df-container {\n",
              "      display:flex;\n",
              "      flex-wrap:wrap;\n",
              "      gap: 12px;\n",
              "    }\n",
              "\n",
              "    .colab-df-convert {\n",
              "      background-color: #E8F0FE;\n",
              "      border: none;\n",
              "      border-radius: 50%;\n",
              "      cursor: pointer;\n",
              "      display: none;\n",
              "      fill: #1967D2;\n",
              "      height: 32px;\n",
              "      padding: 0 0 0 0;\n",
              "      width: 32px;\n",
              "    }\n",
              "\n",
              "    .colab-df-convert:hover {\n",
              "      background-color: #E2EBFA;\n",
              "      box-shadow: 0px 1px 2px rgba(60, 64, 67, 0.3), 0px 1px 3px 1px rgba(60, 64, 67, 0.15);\n",
              "      fill: #174EA6;\n",
              "    }\n",
              "\n",
              "    [theme=dark] .colab-df-convert {\n",
              "      background-color: #3B4455;\n",
              "      fill: #D2E3FC;\n",
              "    }\n",
              "\n",
              "    [theme=dark] .colab-df-convert:hover {\n",
              "      background-color: #434B5C;\n",
              "      box-shadow: 0px 1px 3px 1px rgba(0, 0, 0, 0.15);\n",
              "      filter: drop-shadow(0px 1px 2px rgba(0, 0, 0, 0.3));\n",
              "      fill: #FFFFFF;\n",
              "    }\n",
              "  </style>\n",
              "\n",
              "      <script>\n",
              "        const buttonEl =\n",
              "          document.querySelector('#df-16ec61f0-386f-4aeb-9543-ca8f8479f490 button.colab-df-convert');\n",
              "        buttonEl.style.display =\n",
              "          google.colab.kernel.accessAllowed ? 'block' : 'none';\n",
              "\n",
              "        async function convertToInteractive(key) {\n",
              "          const element = document.querySelector('#df-16ec61f0-386f-4aeb-9543-ca8f8479f490');\n",
              "          const dataTable =\n",
              "            await google.colab.kernel.invokeFunction('convertToInteractive',\n",
              "                                                     [key], {});\n",
              "          if (!dataTable) return;\n",
              "\n",
              "          const docLinkHtml = 'Like what you see? Visit the ' +\n",
              "            '<a target=\"_blank\" href=https://colab.research.google.com/notebooks/data_table.ipynb>data table notebook</a>'\n",
              "            + ' to learn more about interactive tables.';\n",
              "          element.innerHTML = '';\n",
              "          dataTable['output_type'] = 'display_data';\n",
              "          await google.colab.output.renderOutput(dataTable, element);\n",
              "          const docLink = document.createElement('div');\n",
              "          docLink.innerHTML = docLinkHtml;\n",
              "          element.appendChild(docLink);\n",
              "        }\n",
              "      </script>\n",
              "    </div>\n",
              "  </div>\n",
              "  "
            ]
          },
          "metadata": {},
          "execution_count": 18
        }
      ]
    },
    {
      "cell_type": "code",
      "source": [
        "trainData['Freshness'].value_counts().plot(kind='pie', legend=True, labels=['fresh', 'rotten'], autopct='%1.1f%%', fontsize=15, figsize=[5,5])\n",
        "plt.title('Training Set data insights')\n",
        "plt.show()"
      ],
      "metadata": {
        "colab": {
          "base_uri": "https://localhost:8080/",
          "height": 444
        },
        "id": "G3GVxSUdbnxw",
        "outputId": "b4956d24-ee84-455f-9bdc-13cde39e23e8"
      },
      "execution_count": 19,
      "outputs": [
        {
          "output_type": "display_data",
          "data": {
            "text/plain": [
              "<Figure size 500x500 with 1 Axes>"
            ],
            "image/png": "[encoded data removed]"
          },
          "metadata": {}
        }
      ]
    },
    {
      "cell_type": "markdown",
      "source": [
        "**For Test Data:**"
      ],
      "metadata": {
        "id": "Kirz3lvrC28W"
      }
    },
    {
      "cell_type": "code",
      "source": [
        "testData.groupby('Freshness').count()\n",
        "print(\"For Test Data: \")\n",
        "print(\"Number of Positive reviews: \", len(testData[testData['Freshness']==1]))\n",
        "print(\"Number of Negative reviews: \", len(testData[testData['Freshness']==0]))\n",
        "\n",
        "print(\"Probablity of positive reviews: \", len(testData[testData['Freshness']==1]) / len(testData))\n",
        "print(\"Probablity of negative reviews: \", len(testData[testData['Freshness']==0]) / len(testData))"
      ],
      "metadata": {
        "colab": {
          "base_uri": "https://localhost:8080/"
        },
        "id": "d9miN_muCGCm",
        "outputId": "aebd907f-00cb-4116-a6c2-580b7d016e58"
      },
      "execution_count": 20,
      "outputs": [
        {
          "output_type": "stream",
          "name": "stdout",
          "text": [
            "For Test Data: \n",
            "Number of Positive reviews:  35853\n",
            "Number of Negative reviews:  36147\n",
            "Probablity of positive reviews:  0.49795833333333334\n",
            "Probablity of negative reviews:  0.5020416666666667\n"
          ]
        }
      ]
    },
    {
      "cell_type": "code",
      "source": [
        "# cleansing data\n",
        "testData = testData.reindex(np.random.permutation(testData.index))\n",
        "testData.columns = testData.columns.str.strip()\n",
        "testData.columns = testData.columns.str.replace(r\"[^a-zA-Z\\d\\_]+\", \"\", regex = True)\n",
        "testData = testData.replace([\"' \", \" '\",\";\",\":\",\"=\",\"\\+\",\"<\", \">\", \"\\?\", \"!\", \"\\\\\\\\\", \"@\", \"#\", \"$\", \"\\*\", \"%\", \",\", \"\\.\", \"\\(\", \"\\)\", \"\\[\", \"\\]\", \"\\{\", \"\\}\", \"\\\"\", \"/br\"], \"\", regex = True)"
      ],
      "metadata": {
        "id": "PyZeLJgzDn7o"
      },
      "execution_count": 21,
      "outputs": []
    },
    {
      "cell_type": "code",
      "source": [
        "testData.head()"
      ],
      "metadata": {
        "colab": {
          "base_uri": "https://localhost:8080/",
          "height": 206
        },
        "id": "2IsJGC27Ek-c",
        "outputId": "8b03fc95-467f-4a63-b894-e60399afb7d4"
      },
      "execution_count": 24,
      "outputs": [
        {
          "output_type": "execute_result",
          "data": {
            "text/plain": [
              "        Freshness                                             Review\n",
              "375844          0   Whatever Works isn't a good Woody Allen movie...\n",
              "336262          1   It's a reunion that finds the old friends gra...\n",
              "358212          0   The profound weaknesses of the film are manif...\n",
              "336761          1   A frolicsome comedy in which two Englishmen e...\n",
              "384687          0   The Lovely Bones has been fashioned as a holi..."
            ],
            "text/html": [
              "\n",
              "  <div id=\"df-649f3fb0-f075-46f2-a718-a2e8ce7f47c9\">\n",
              "    <div class=\"colab-df-container\">\n",
              "      <div>\n",
              "<style scoped>\n",
              "    .dataframe tbody tr th:only-of-type {\n",
              "        vertical-align: middle;\n",
              "    }\n",
              "\n",
              "    .dataframe tbody tr th {\n",
              "        vertical-align: top;\n",
              "    }\n",
              "\n",
              "    .dataframe thead th {\n",
              "        text-align: right;\n",
              "    }\n",
              "</style>\n",
              "<table border=\"1\" class=\"dataframe\">\n",
              "  <thead>\n",
              "    <tr style=\"text-align: right;\">\n",
              "      <th></th>\n",
              "      <th>Freshness</th>\n",
              "      <th>Review</th>\n",
              "    </tr>\n",
              "  </thead>\n",
              "  <tbody>\n",
              "    <tr>\n",
              "      <th>375844</th>\n",
              "      <td>0</td>\n",
              "      <td>Whatever Works isn't a good Woody Allen movie...</td>\n",
              "    </tr>\n",
              "    <tr>\n",
              "      <th>336262</th>\n",
              "      <td>1</td>\n",
              "      <td>It's a reunion that finds the old friends gra...</td>\n",
              "    </tr>\n",
              "    <tr>\n",
              "      <th>358212</th>\n",
              "      <td>0</td>\n",
              "      <td>The profound weaknesses of the film are manif...</td>\n",
              "    </tr>\n",
              "    <tr>\n",
              "      <th>336761</th>\n",
              "      <td>1</td>\n",
              "      <td>A frolicsome comedy in which two Englishmen e...</td>\n",
              "    </tr>\n",
              "    <tr>\n",
              "      <th>384687</th>\n",
              "      <td>0</td>\n",
              "      <td>The Lovely Bones has been fashioned as a holi...</td>\n",
              "    </tr>\n",
              "  </tbody>\n",
              "</table>\n",
              "</div>\n",
              "      <button class=\"colab-df-convert\" onclick=\"convertToInteractive('df-649f3fb0-f075-46f2-a718-a2e8ce7f47c9')\"\n",
              "              title=\"Convert this dataframe to an interactive table.\"\n",
              "              style=\"display:none;\">\n",
              "        \n",
              "  <svg xmlns=\"http://www.w3.org/2000/svg\" height=\"24px\"viewBox=\"0 0 24 24\"\n",
              "       width=\"24px\">\n",
              "    <path d=\"M0 0h24v24H0V0z\" fill=\"none\"/>\n",
              "    <path d=\"M18.56 5.44l.94 2.06.94-2.06 2.06-.94-2.06-.94-.94-2.06-.94 2.06-2.06.94zm-11 1L8.5 8.5l.94-2.06 2.06-.94-2.06-.94L8.5 2.5l-.94 2.06-2.06.94zm10 10l.94 2.06.94-2.06 2.06-.94-2.06-.94-.94-2.06-.94 2.06-2.06.94z\"/><path d=\"M17.41 7.96l-1.37-1.37c-.4-.4-.92-.59-1.43-.59-.52 0-1.04.2-1.43.59L10.3 9.45l-7.72 7.72c-.78.78-.78 2.05 0 2.83L4 21.41c.39.39.9.59 1.41.59.51 0 1.02-.2 1.41-.59l7.78-7.78 2.81-2.81c.8-.78.8-2.07 0-2.86zM5.41 20L4 18.59l7.72-7.72 1.47 1.35L5.41 20z\"/>\n",
              "  </svg>\n",
              "      </button>\n",
              "      \n",
              "  <style>\n",
              "    .colab-df-container {\n",
              "      display:flex;\n",
              "      flex-wrap:wrap;\n",
              "      gap: 12px;\n",
              "    }\n",
              "\n",
              "    .colab-df-convert {\n",
              "      background-color: #E8F0FE;\n",
              "      border: none;\n",
              "      border-radius: 50%;\n",
              "      cursor: pointer;\n",
              "      display: none;\n",
              "      fill: #1967D2;\n",
              "      height: 32px;\n",
              "      padding: 0 0 0 0;\n",
              "      width: 32px;\n",
              "    }\n",
              "\n",
              "    .colab-df-convert:hover {\n",
              "      background-color: #E2EBFA;\n",
              "      box-shadow: 0px 1px 2px rgba(60, 64, 67, 0.3), 0px 1px 3px 1px rgba(60, 64, 67, 0.15);\n",
              "      fill: #174EA6;\n",
              "    }\n",
              "\n",
              "    [theme=dark] .colab-df-convert {\n",
              "      background-color: #3B4455;\n",
              "      fill: #D2E3FC;\n",
              "    }\n",
              "\n",
              "    [theme=dark] .colab-df-convert:hover {\n",
              "      background-color: #434B5C;\n",
              "      box-shadow: 0px 1px 3px 1px rgba(0, 0, 0, 0.15);\n",
              "      filter: drop-shadow(0px 1px 2px rgba(0, 0, 0, 0.3));\n",
              "      fill: #FFFFFF;\n",
              "    }\n",
              "  </style>\n",
              "\n",
              "      <script>\n",
              "        const buttonEl =\n",
              "          document.querySelector('#df-649f3fb0-f075-46f2-a718-a2e8ce7f47c9 button.colab-df-convert');\n",
              "        buttonEl.style.display =\n",
              "          google.colab.kernel.accessAllowed ? 'block' : 'none';\n",
              "\n",
              "        async function convertToInteractive(key) {\n",
              "          const element = document.querySelector('#df-649f3fb0-f075-46f2-a718-a2e8ce7f47c9');\n",
              "          const dataTable =\n",
              "            await google.colab.kernel.invokeFunction('convertToInteractive',\n",
              "                                                     [key], {});\n",
              "          if (!dataTable) return;\n",
              "\n",
              "          const docLinkHtml = 'Like what you see? Visit the ' +\n",
              "            '<a target=\"_blank\" href=https://colab.research.google.com/notebooks/data_table.ipynb>data table notebook</a>'\n",
              "            + ' to learn more about interactive tables.';\n",
              "          element.innerHTML = '';\n",
              "          dataTable['output_type'] = 'display_data';\n",
              "          await google.colab.output.renderOutput(dataTable, element);\n",
              "          const docLink = document.createElement('div');\n",
              "          docLink.innerHTML = docLinkHtml;\n",
              "          element.appendChild(docLink);\n",
              "        }\n",
              "      </script>\n",
              "    </div>\n",
              "  </div>\n",
              "  "
            ]
          },
          "metadata": {},
          "execution_count": 24
        }
      ]
    },
    {
      "cell_type": "code",
      "source": [
        "testData['Freshness'].value_counts().plot(kind='pie', legend=True, labels=['fresh', 'rotten'], autopct='%1.1f%%', fontsize=15, figsize=[5,5])\n",
        "plt.title('Test Set data insights')\n",
        "plt.show()"
      ],
      "metadata": {
        "colab": {
          "base_uri": "https://localhost:8080/",
          "height": 444
        },
        "id": "FeYM9R0Abp9B",
        "outputId": "32a77b3e-2faa-4704-fcac-9ef101151cc9"
      },
      "execution_count": 25,
      "outputs": [
        {
          "output_type": "display_data",
          "data": {
            "text/plain": [
              "<Figure size 500x500 with 1 Axes>"
            ],
            "image/png": "[encoded data removed]"
          },
          "metadata": {}
        }
      ]
    },
    {
      "cell_type": "markdown",
      "source": [
        "**For Validation Data**"
      ],
      "metadata": {
        "id": "3AA5-_RxC9HX"
      }
    },
    {
      "cell_type": "code",
      "source": [
        "validationData.groupby('Freshness').count()\n",
        "print(\"For Validation Data: \")\n",
        "print(\"Number of Positive reviews: \", len(validationData[validationData['Freshness']==1]))\n",
        "print(\"Number of Negative reviews: \", len(validationData[validationData['Freshness']==0]))\n",
        "\n",
        "print(\"Probablity of positive reviews: \", len(validationData[validationData['Freshness']==1]) / len(validationData))\n",
        "print(\"Probablity of negative reviews: \", len(validationData[validationData['Freshness']==0]) / len(validationData))"
      ],
      "metadata": {
        "colab": {
          "base_uri": "https://localhost:8080/"
        },
        "id": "pXMafKZsCXHX",
        "outputId": "1827fbdf-77dd-45c0-f081-368e0b8c09ee"
      },
      "execution_count": 26,
      "outputs": [
        {
          "output_type": "stream",
          "name": "stdout",
          "text": [
            "For Validation Data: \n",
            "Number of Positive reviews:  35852\n",
            "Number of Negative reviews:  36148\n",
            "Probablity of positive reviews:  0.49794444444444447\n",
            "Probablity of negative reviews:  0.5020555555555556\n"
          ]
        }
      ]
    },
    {
      "cell_type": "code",
      "source": [
        "# cleansing data\n",
        "validationData = validationData.reindex(np.random.permutation(validationData.index))\n",
        "validationData.columns = validationData.columns.str.strip()\n",
        "validationData.columns = validationData.columns.str.replace(r\"[^a-zA-Z\\d\\_]+\", \"\", regex = True)\n",
        "validationData = validationData.replace([\"' \", \" '\",\";\",\":\",\"=\",\"\\+\",\"<\", \">\", \"\\?\", \"!\", \"\\\\\\\\\", \"@\", \"#\", \"$\", \"\\*\", \"%\", \",\", \"\\.\", \"\\(\", \"\\)\", \"\\[\", \"\\]\", \"\\{\", \"\\}\", \"\\\"\", \"/br\"], \"\", regex = True)"
      ],
      "metadata": {
        "id": "ZN82SNVpxSTx"
      },
      "execution_count": 27,
      "outputs": []
    },
    {
      "cell_type": "code",
      "source": [
        "validationData.head()"
      ],
      "metadata": {
        "colab": {
          "base_uri": "https://localhost:8080/",
          "height": 206
        },
        "id": "1nxwhjmhxWPw",
        "outputId": "22f42f74-9c74-4027-8348-b6effa471392"
      },
      "execution_count": 28,
      "outputs": [
        {
          "output_type": "execute_result",
          "data": {
            "text/plain": [
              "        Freshness                                             Review\n",
              "474779          1   It looks and feels the part without ever over...\n",
              "440730          1                   Fierce glaring and unforgettable\n",
              "469153          1   As a 3-D film Journey to the Center of the Ea...\n",
              "464114          1   The film like its main subject is a quiet exe...\n",
              "468530          1                      a lively children's adventure"
            ],
            "text/html": [
              "\n",
              "  <div id=\"df-0e55b6e2-9bda-4e85-bbac-18cc8ce81e81\">\n",
              "    <div class=\"colab-df-container\">\n",
              "      <div>\n",
              "<style scoped>\n",
              "    .dataframe tbody tr th:only-of-type {\n",
              "        vertical-align: middle;\n",
              "    }\n",
              "\n",
              "    .dataframe tbody tr th {\n",
              "        vertical-align: top;\n",
              "    }\n",
              "\n",
              "    .dataframe thead th {\n",
              "        text-align: right;\n",
              "    }\n",
              "</style>\n",
              "<table border=\"1\" class=\"dataframe\">\n",
              "  <thead>\n",
              "    <tr style=\"text-align: right;\">\n",
              "      <th></th>\n",
              "      <th>Freshness</th>\n",
              "      <th>Review</th>\n",
              "    </tr>\n",
              "  </thead>\n",
              "  <tbody>\n",
              "    <tr>\n",
              "      <th>474779</th>\n",
              "      <td>1</td>\n",
              "      <td>It looks and feels the part without ever over...</td>\n",
              "    </tr>\n",
              "    <tr>\n",
              "      <th>440730</th>\n",
              "      <td>1</td>\n",
              "      <td>Fierce glaring and unforgettable</td>\n",
              "    </tr>\n",
              "    <tr>\n",
              "      <th>469153</th>\n",
              "      <td>1</td>\n",
              "      <td>As a 3-D film Journey to the Center of the Ea...</td>\n",
              "    </tr>\n",
              "    <tr>\n",
              "      <th>464114</th>\n",
              "      <td>1</td>\n",
              "      <td>The film like its main subject is a quiet exe...</td>\n",
              "    </tr>\n",
              "    <tr>\n",
              "      <th>468530</th>\n",
              "      <td>1</td>\n",
              "      <td>a lively children's adventure</td>\n",
              "    </tr>\n",
              "  </tbody>\n",
              "</table>\n",
              "</div>\n",
              "      <button class=\"colab-df-convert\" onclick=\"convertToInteractive('df-0e55b6e2-9bda-4e85-bbac-18cc8ce81e81')\"\n",
              "              title=\"Convert this dataframe to an interactive table.\"\n",
              "              style=\"display:none;\">\n",
              "        \n",
              "  <svg xmlns=\"http://www.w3.org/2000/svg\" height=\"24px\"viewBox=\"0 0 24 24\"\n",
              "       width=\"24px\">\n",
              "    <path d=\"M0 0h24v24H0V0z\" fill=\"none\"/>\n",
              "    <path d=\"M18.56 5.44l.94 2.06.94-2.06 2.06-.94-2.06-.94-.94-2.06-.94 2.06-2.06.94zm-11 1L8.5 8.5l.94-2.06 2.06-.94-2.06-.94L8.5 2.5l-.94 2.06-2.06.94zm10 10l.94 2.06.94-2.06 2.06-.94-2.06-.94-.94-2.06-.94 2.06-2.06.94z\"/><path d=\"M17.41 7.96l-1.37-1.37c-.4-.4-.92-.59-1.43-.59-.52 0-1.04.2-1.43.59L10.3 9.45l-7.72 7.72c-.78.78-.78 2.05 0 2.83L4 21.41c.39.39.9.59 1.41.59.51 0 1.02-.2 1.41-.59l7.78-7.78 2.81-2.81c.8-.78.8-2.07 0-2.86zM5.41 20L4 18.59l7.72-7.72 1.47 1.35L5.41 20z\"/>\n",
              "  </svg>\n",
              "      </button>\n",
              "      \n",
              "  <style>\n",
              "    .colab-df-container {\n",
              "      display:flex;\n",
              "      flex-wrap:wrap;\n",
              "      gap: 12px;\n",
              "    }\n",
              "\n",
              "    .colab-df-convert {\n",
              "      background-color: #E8F0FE;\n",
              "      border: none;\n",
              "      border-radius: 50%;\n",
              "      cursor: pointer;\n",
              "      display: none;\n",
              "      fill: #1967D2;\n",
              "      height: 32px;\n",
              "      padding: 0 0 0 0;\n",
              "      width: 32px;\n",
              "    }\n",
              "\n",
              "    .colab-df-convert:hover {\n",
              "      background-color: #E2EBFA;\n",
              "      box-shadow: 0px 1px 2px rgba(60, 64, 67, 0.3), 0px 1px 3px 1px rgba(60, 64, 67, 0.15);\n",
              "      fill: #174EA6;\n",
              "    }\n",
              "\n",
              "    [theme=dark] .colab-df-convert {\n",
              "      background-color: #3B4455;\n",
              "      fill: #D2E3FC;\n",
              "    }\n",
              "\n",
              "    [theme=dark] .colab-df-convert:hover {\n",
              "      background-color: #434B5C;\n",
              "      box-shadow: 0px 1px 3px 1px rgba(0, 0, 0, 0.15);\n",
              "      filter: drop-shadow(0px 1px 2px rgba(0, 0, 0, 0.3));\n",
              "      fill: #FFFFFF;\n",
              "    }\n",
              "  </style>\n",
              "\n",
              "      <script>\n",
              "        const buttonEl =\n",
              "          document.querySelector('#df-0e55b6e2-9bda-4e85-bbac-18cc8ce81e81 button.colab-df-convert');\n",
              "        buttonEl.style.display =\n",
              "          google.colab.kernel.accessAllowed ? 'block' : 'none';\n",
              "\n",
              "        async function convertToInteractive(key) {\n",
              "          const element = document.querySelector('#df-0e55b6e2-9bda-4e85-bbac-18cc8ce81e81');\n",
              "          const dataTable =\n",
              "            await google.colab.kernel.invokeFunction('convertToInteractive',\n",
              "                                                     [key], {});\n",
              "          if (!dataTable) return;\n",
              "\n",
              "          const docLinkHtml = 'Like what you see? Visit the ' +\n",
              "            '<a target=\"_blank\" href=https://colab.research.google.com/notebooks/data_table.ipynb>data table notebook</a>'\n",
              "            + ' to learn more about interactive tables.';\n",
              "          element.innerHTML = '';\n",
              "          dataTable['output_type'] = 'display_data';\n",
              "          await google.colab.output.renderOutput(dataTable, element);\n",
              "          const docLink = document.createElement('div');\n",
              "          docLink.innerHTML = docLinkHtml;\n",
              "          element.appendChild(docLink);\n",
              "        }\n",
              "      </script>\n",
              "    </div>\n",
              "  </div>\n",
              "  "
            ]
          },
          "metadata": {},
          "execution_count": 28
        }
      ]
    },
    {
      "cell_type": "code",
      "source": [
        "validationData['Freshness'].value_counts().plot(kind='pie', legend=True, labels=['fresh', 'rotten'], autopct='%1.1f%%', fontsize=15, figsize=[5,5])\n",
        "plt.title('Validation Set data insights')\n",
        "plt.show()"
      ],
      "metadata": {
        "colab": {
          "base_uri": "https://localhost:8080/",
          "height": 444
        },
        "id": "IH8nR59vbyhQ",
        "outputId": "010c15d0-ec69-4cd6-dc31-d8cdaaebeb1a"
      },
      "execution_count": 29,
      "outputs": [
        {
          "output_type": "display_data",
          "data": {
            "text/plain": [
              "<Figure size 500x500 with 1 Axes>"
            ],
            "image/png": "[encoded data removed]"
          },
          "metadata": {}
        }
      ]
    },
    {
      "cell_type": "code",
      "source": [
        "print(\"Word Length: \")\n",
        "allWords = []\n",
        "def calculateWordCount(trainData, freshness):\n",
        "    wordlist = []\n",
        "    for i in range(1,len(trainData)):\n",
        "        allWords.extend(list(trainData['Review'][i].lower().split()))\n",
        "        if(trainData['Freshness'][i] == freshness):\n",
        "            wordlist.extend(list(trainData['Review'][i].lower().split()))\n",
        "    return Counter(wordlist), Counter(allWords)\n",
        "\n",
        "freshWordCount, wordCount = calculateWordCount(trainData, 1)\n",
        "\n",
        "rottenWordCount, wordCounts = calculateWordCount(trainData, 0)\n",
        "\n",
        "print(\"Word count: \",len(wordCount))\n",
        "print(\"Fresh word count: \", len(freshWordCount))\n",
        "print(\"Rotten word count: \", len(rottenWordCount))"
      ],
      "metadata": {
        "colab": {
          "base_uri": "https://localhost:8080/"
        },
        "id": "_h4wPK8kxYy4",
        "outputId": "3359323b-88bf-47c5-e248-1fb283afcd9b"
      },
      "execution_count": 30,
      "outputs": [
        {
          "output_type": "stream",
          "name": "stdout",
          "text": [
            "Word Length: \n",
            "Word count:  133747\n",
            "Fresh word count:  92359\n",
            "Rotten word count:  88332\n"
          ]
        }
      ]
    },
    {
      "cell_type": "code",
      "source": [
        "copyofwordCount = wordCount.copy()\n",
        "\n",
        "print(\"After removing words that are repeated less than 5 times.\")\n",
        "\n",
        "for word in copyofwordCount:\n",
        "    if(wordCount[word]<5):\n",
        "        del wordCount[word]\n",
        "    if word in freshWordCount and freshWordCount[word] <5:\n",
        "            del freshWordCount[word] \n",
        "    if word in rottenWordCount and rottenWordCount[word] <5:\n",
        "            del rottenWordCount[word]\n",
        "\n",
        "print(\"Word count: \",len(wordCount))\n",
        "print(\"Fresh word count: \", len(freshWordCount))\n",
        "print(\"Rotten word count: \", len(rottenWordCount))"
      ],
      "metadata": {
        "colab": {
          "base_uri": "https://localhost:8080/"
        },
        "id": "DDqQ1aXTftNL",
        "outputId": "2b6024a5-ae45-44c4-b14a-511e2071c9aa"
      },
      "execution_count": 31,
      "outputs": [
        {
          "output_type": "stream",
          "name": "stdout",
          "text": [
            "After removing words that are repeated less than 5 times.\n",
            "Word count:  39584\n",
            "Fresh word count:  27498\n",
            "Rotten word count:  27966\n"
          ]
        }
      ]
    },
    {
      "cell_type": "code",
      "source": [
        "def findProbability(wcount, dataLength, smoothingOrNotSmoothing):             \n",
        "    if smoothingOrNotSmoothing == 0:\n",
        "        #no smoothing\n",
        "        return wcount/dataLength\n",
        "    if smoothingOrNotSmoothing==1:\n",
        "        #smoothing\n",
        "        prob = (wcount+1)/(dataLength+len(wordCount))\n",
        "        return prob\n",
        "\n",
        "probabilityWord = dict()\n",
        "probabilityWord_given_positive = dict()\n",
        "probabilityWord_given_negative = dict()\n",
        "\n",
        "# finding probabilities without smoothing, P[“the”] = num of documents containing ‘the’ / num of all documents\n",
        "\n",
        "for word in wordCount:\n",
        "\n",
        "    probabilityWord[word] = findProbability(wordCount[word], len(trainData), 0) \n",
        "\n",
        "    if word == 'the':\n",
        "      print(\"Word: \", word, \", Count: \", wordCount[word],\", Probability: \", probabilityWord[word])\n",
        "\n",
        "    if word in freshWordCount:\n",
        "        # P(word|Positive) = # of positive documents containing “word” / num of all positive review documents\n",
        "        probabilityWord_given_positive[word] = findProbability(freshWordCount[word], len(trainData[trainData['Freshness']==1]), 0)\n",
        "        if word == 'the':\n",
        "            print(\"Probablity ['\", word, \"'| Positive] : \",probabilityWord_given_positive[word])\n",
        "\n",
        "    if word in rottenWordCount:\n",
        "        # P(word|Negative) = # of negative documents containing “word” / num of all negative review documents\n",
        "        probabilityWord_given_negative[word] = findProbability(rottenWordCount[word], len(trainData[trainData['Freshness']==0]), 0)"
      ],
      "metadata": {
        "id": "s0VrUFnwx0aQ",
        "colab": {
          "base_uri": "https://localhost:8080/"
        },
        "outputId": "8ece3703-c790-4146-9a34-fbfa41335aa1"
      },
      "execution_count": 32,
      "outputs": [
        {
          "output_type": "stream",
          "name": "stdout",
          "text": [
            "Word:  the , Count:  380229 , Probability:  1.1316339285714285\n",
            "Probablity [' the '| Positive] :  1.1402893728274757\n"
          ]
        }
      ]
    },
    {
      "cell_type": "code",
      "source": [
        "def probabilityOfWord(index, smoothingFactor):\n",
        "    reviews = set(arraySet['Review'][index].lower().split())\n",
        "    probabilityPositive_givenWord = dict()\n",
        "    probabilityNegative_givenWord = dict()\n",
        "    noPositive = 0.00\n",
        "    noNegative = 0.00\n",
        "    for word in reviews:\n",
        "        if word in probabilityWord:\n",
        "            if word not in probabilityWord_given_positive:\n",
        "                noNegative = 0\n",
        "            elif word not in probabilityWord_given_negative:\n",
        "                noPositive = 0\n",
        "            else:\n",
        "                if smoothingFactor == 0:\n",
        "                    noPositive += math.log(probabilityWord_given_positive[word])\n",
        "                    noNegative += math.log(probabilityWord_given_negative[word])\n",
        "                else:\n",
        "                    noPositive += math.log(probabilityWord_given_positive_smooth[word])\n",
        "                    noNegative += math.log(probabilityWord_given_negative_smooth[word])\n",
        "    # calculating P(Freshness|Word)\n",
        "    probabilityPositive_givenWord[index] = pow(math.e, noPositive) * len(trainData[trainData['Freshness']==1]) / len(trainData) \n",
        "    probabilityNegative_givenWord[index] = pow(math.e, noNegative) * len(trainData[trainData['Freshness']==0]) / len(trainData)\n",
        "    if(probabilityPositive_givenWord[index] < probabilityNegative_givenWord[index]):\n",
        "        return 0\n",
        "    else:\n",
        "        return 1\n",
        "\n",
        "\n",
        "testArray = np.array_split(testData, 6)\n",
        "firstAccuracy = []\n",
        "print(\"With no smoothing: \")\n",
        "\n",
        "for arraySet in testArray: \n",
        "    count = 0\n",
        "    predictions = []\n",
        "    \n",
        "    for index in arraySet.index:\n",
        "        predictions.append(probabilityOfWord(index, 0))\n",
        "         \n",
        "    arraySet['prediction'] = predictions\n",
        "                                                                        \n",
        "    for index in arraySet.index:\n",
        "        if arraySet['Freshness'][index] == arraySet['prediction'][index]:\n",
        "            count = count + 1\n",
        "                                            \n",
        "    accuracy = count / len(arraySet)\n",
        "    firstAccuracy.append(accuracy)\n",
        "    print (\"Test Data Accuracy: \",100*accuracy,\" %\")"
      ],
      "metadata": {
        "id": "k-aJ2Dwax4Fv",
        "colab": {
          "base_uri": "https://localhost:8080/"
        },
        "outputId": "44379eb0-9e2c-4f1a-9b2e-8a97242a7c40"
      },
      "execution_count": 33,
      "outputs": [
        {
          "output_type": "stream",
          "name": "stdout",
          "text": [
            "With no smoothing: \n",
            "Test Data Accuracy:  75.25  %\n",
            "Test Data Accuracy:  75.05833333333334  %\n",
            "Test Data Accuracy:  75.56666666666668  %\n",
            "Test Data Accuracy:  75.925  %\n",
            "Test Data Accuracy:  75.81666666666666  %\n",
            "Test Data Accuracy:  75.075  %\n"
          ]
        }
      ]
    },
    {
      "cell_type": "code",
      "source": [
        "probabilityWord_given_positive_smooth = dict()\n",
        "probabilityWord_given_negative_smooth = dict()\n",
        "\n",
        "# finding probabilities with smoothing\n",
        "for word in wordCount:                        \n",
        "    if word in freshWordCount:\n",
        "        probabilityWord_given_positive_smooth[word] = findProbability(freshWordCount[word], len(trainData[trainData['Freshness']==1]), 1)  \n",
        "        \n",
        "    if word in rottenWordCount:\n",
        "        probabilityWord_given_negative_smooth[word] = findProbability(rottenWordCount[word], len(trainData[trainData['Freshness']==0]), 1) "
      ],
      "metadata": {
        "id": "kksA4XjFx6eJ"
      },
      "execution_count": 34,
      "outputs": []
    },
    {
      "cell_type": "code",
      "source": [
        "testArray = np.array_split(testData, 6)\n",
        "secondAccuracy = []\n",
        "print(\"With smoothing: \")\n",
        "\n",
        "for arraySet in testArray: \n",
        "    count = 0\n",
        "    predictions = []\n",
        "    \n",
        "    for index in arraySet.index:\n",
        "        predictions.append(probabilityOfWord(index,1))\n",
        "         \n",
        "    arraySet['prediction'] = predictions\n",
        "                                                                        \n",
        "    for index in arraySet.index:\n",
        "        if arraySet['Freshness'][index] == arraySet['prediction'][index]:\n",
        "            count = count + 1\n",
        "                                            \n",
        "    accuracy = count / len(arraySet)\n",
        "    secondAccuracy.append(accuracy)\n",
        "    print (\"Test Data Accuracy: \",100*accuracy,\" %\")"
      ],
      "metadata": {
        "id": "jg7CYqCax8WQ",
        "colab": {
          "base_uri": "https://localhost:8080/"
        },
        "outputId": "fe6dd63e-a586-4811-fe2c-a0bf21ca9abf"
      },
      "execution_count": 36,
      "outputs": [
        {
          "output_type": "stream",
          "name": "stdout",
          "text": [
            "With smoothing: \n",
            "Test Data Accuracy:  75.25  %\n",
            "Test Data Accuracy:  75.09166666666667  %\n",
            "Test Data Accuracy:  75.58333333333334  %\n",
            "Test Data Accuracy:  75.89166666666667  %\n",
            "Test Data Accuracy:  75.80833333333334  %\n",
            "Test Data Accuracy:  75.05833333333334  %\n"
          ]
        }
      ]
    },
    {
      "cell_type": "code",
      "source": [
        "normal = 0\n",
        "smoothing = 0\n",
        "\n",
        "for i in range(len(firstAccuracy)):\n",
        "    if (firstAccuracy[i] > secondAccuracy[i]): \n",
        "        normal += 1\n",
        "    else: \n",
        "        smoothing += 1\n",
        "\n",
        "if(smoothing >= normal): \n",
        "    print(\"Accuracy is more with smoothing!\")\n",
        "else: \n",
        "    print(\"Accuracy is more with no smoothing!\")"
      ],
      "metadata": {
        "id": "6022p_Yyx-nX",
        "colab": {
          "base_uri": "https://localhost:8080/"
        },
        "outputId": "2c6a4ee3-c19e-4d56-fc2a-3e6927bfee51"
      },
      "execution_count": 47,
      "outputs": [
        {
          "output_type": "stream",
          "name": "stdout",
          "text": [
            "Accuracy is more with smoothing!\n"
          ]
        }
      ]
    },
    {
      "cell_type": "code",
      "source": [
        "probability_posi_given_word = dict() \n",
        "probability_nega_given_word = dict()\n",
        "\n",
        "for word in wordCount:\n",
        "    if word in freshWordCount:\n",
        "        probability_posi_given_word[word] = (probabilityWord_given_positive[word] * len(trainData[trainData['Freshness']==1])) / probabilityWord[word]\n",
        "    if word in rottenWordCount:\n",
        "        probability_nega_given_word[word] = (probabilityWord_given_negative[word] * len(trainData[trainData['Freshness']==0])) / probabilityWord[word]\n",
        "      \n",
        "def sorting(dictionary, n):\n",
        "    temp = dictionary.copy()\n",
        "    disctionaryWithNoValues = dict()\n",
        "    for i in range(n):\n",
        "        maxkey = max(temp, key=temp.get, default=0.0)\n",
        "        disctionaryWithNoValues[maxkey] = float(temp[maxkey])\n",
        "        del temp[maxkey]\n",
        "    return disctionaryWithNoValues\n",
        "    \n",
        "print(\"Ten maximum common positive class words: \\n\", sorting(probability_posi_given_word, 10))\n",
        "print(\"Ten maximum common negative class words: \\n\", sorting(probability_nega_given_word, 10))"
      ],
      "metadata": {
        "id": "VVEK1D6TyBH3",
        "colab": {
          "base_uri": "https://localhost:8080/"
        },
        "outputId": "76502535-0b2a-47c7-c028-83e66e4533b2"
      },
      "execution_count": 48,
      "outputs": [
        {
          "output_type": "stream",
          "name": "stdout",
          "text": [
            "Ten maximum common positive class words: \n",
            " {'manakamana': 336000.0, 'kubo': 336000.0, 'deep-dive': 336000.0, 'hones': 336000.0, 'awkwafina': 336000.0, 'ralston': 336000.0, 'unadorned': 336000.0, 'undisputed': 336000.0, 'chopin': 336000.0, 'hirokazu': 336000.0}\n",
            "Ten maximum common negative class words: \n",
            " {'bargain-basement': 336000.00000000006, \"hector's\": 336000.0, 'unappealingly': 336000.0, 'choppily': 336000.0, 'perpetrator': 336000.0, 'weak-kneed': 336000.0, 'derisive': 336000.0, 'lead-footed': 336000.0, 'closing-credit': 336000.0, 'fletch': 336000.0}\n"
          ]
        }
      ]
    },
    {
      "cell_type": "code",
      "source": [
        "testArray = np.array_split(validationData, 1)\n",
        "finalAccuracy = []\n",
        "print(\"Accuracy of my algorithm: \")\n",
        "\n",
        "for arraySet in testArray: \n",
        "    count = 0\n",
        "    predictions = []\n",
        "    \n",
        "    for index in arraySet.index:\n",
        "        predictions.append(probabilityOfWord(index,1))\n",
        "         \n",
        "    arraySet['prediction'] = predictions\n",
        "                                                                        \n",
        "    for index in arraySet.index:\n",
        "        if arraySet['Freshness'][index] == arraySet['prediction'][index]:\n",
        "            count = count + 1\n",
        "                                            \n",
        "    accuracy = count / len(arraySet)\n",
        "    finalAccuracy.append(accuracy)\n",
        "    print (int(100*accuracy),\" %\")\n"
      ],
      "metadata": {
        "id": "-Q0O6Y_L47LQ",
        "colab": {
          "base_uri": "https://localhost:8080/"
        },
        "outputId": "dd81c889-8ce7-4bc2-9f12-40b393bbd764"
      },
      "execution_count": 50,
      "outputs": [
        {
          "output_type": "stream",
          "name": "stdout",
          "text": [
            "Accuracy of my algorithm: \n",
            "75  %\n"
          ]
        }
      ]
    }
  ]
}